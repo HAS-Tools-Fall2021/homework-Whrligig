{
 "cells": [
  {
   "cell_type": "markdown",
   "id": "11cbde0a",
   "metadata": {},
   "source": [
    " ## This is my test notebook \n",
    " ### Here is where I would write some instructions \n",
    " this is the text"
   ]
  },
  {
   "cell_type": "code",
   "execution_count": 2,
   "id": "46cd3ca9",
   "metadata": {},
   "outputs": [
    {
     "name": "stdout",
     "output_type": "stream",
     "text": [
      "hello world\n"
     ]
    }
   ],
   "source": [
    "print('hello world')"
   ]
  },
  {
   "cell_type": "markdown",
   "id": "cfc37307",
   "metadata": {},
   "source": [
    "adding a little more narative to my test"
   ]
  },
  {
   "cell_type": "code",
   "execution_count": 3,
   "id": "3362b47e",
   "metadata": {},
   "outputs": [],
   "source": [
    "x = 7\n",
    "y=15\n",
    "z= x+y"
   ]
  },
  {
   "cell_type": "markdown",
   "id": "e16f3de2",
   "metadata": {},
   "source": [
    "Here I'm testing whether you can create a variable in one cell and use it in the next"
   ]
  },
  {
   "cell_type": "code",
   "execution_count": 4,
   "id": "016504fb",
   "metadata": {},
   "outputs": [
    {
     "name": "stdout",
     "output_type": "stream",
     "text": [
      "22\n"
     ]
    }
   ],
   "source": [
    "print(z)"
   ]
  },
  {
   "cell_type": "code",
   "execution_count": null,
   "id": "b49e905b",
   "metadata": {},
   "outputs": [],
   "source": []
  }
 ],
 "metadata": {
  "interpreter": {
   "hash": "020c9d88021b1b205a51b251e4e2d22b23a1219d8fe0771d45813dcd34d4eab0"
  },
  "kernelspec": {
   "display_name": "Python 3.8.10 64-bit ('hastools2': conda)",
   "name": "python3"
  },
  "language_info": {
   "codemirror_mode": {
    "name": "ipython",
    "version": 3
   },
   "file_extension": ".py",
   "mimetype": "text/x-python",
   "name": "python",
   "nbconvert_exporter": "python",
   "pygments_lexer": "ipython3",
   "version": "3.8.10"
  }
 },
 "nbformat": 4,
 "nbformat_minor": 5
}
