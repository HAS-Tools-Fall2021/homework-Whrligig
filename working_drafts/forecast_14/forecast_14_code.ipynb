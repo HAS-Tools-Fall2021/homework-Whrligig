{
 "cells": [
  {
   "cell_type": "markdown",
   "metadata": {},
   "source": [
    "### Forecast 14 Code"
   ]
  },
  {
   "cell_type": "code",
   "execution_count": null,
   "metadata": {},
   "outputs": [],
   "source": [
    "import os\n",
    "import pandas as pd\n",
    "import matplotlib.pyplot as plt\n",
    "import matplotlib.dates as mdates\n",
    "import datetime"
   ]
  },
  {
   "cell_type": "code",
   "execution_count": null,
   "metadata": {},
   "outputs": [],
   "source": [
    "# Add in streamflow data\n",
    "filename = 'streamflow_week15.txt'\n",
    "filepath = os.path.join(filename)\n",
    "print(os.getcwd())\n",
    "print(filepath)\n",
    "\n",
    "flow_data = pd.read_table(filepath, sep='\\t', skiprows=30,\n",
    "                     names=['agency_cd', 'site_no', 'datetime',\n",
    "                            'flow', 'code'],\n",
    "                     parse_dates=['datetime'], index_col=['datetime']\n",
    "                     )\n"
   ]
  },
  {
   "cell_type": "code",
   "execution_count": null,
   "metadata": {},
   "outputs": [],
   "source": [
    "# Create plot of streamflow behavior during last forecast period\n",
    "date_format = mdates.DateFormatter(\"%m/%d\")\n",
    "fig, ax = plt.subplots()\n",
    "ax.plot(flow_data['flow'], label='Daily Flow', marker='o',\n",
    "        color='lightgray',\n",
    "        markerfacecolor='steelblue',\n",
    "        markeredgecolor='steelblue')\n",
    "ax.set(title=\"Observed Flow for Week 11/28/21 - 12/04/21\", xlabel=\"Date\",\n",
    "       ylabel=\"Flow [cfs]\", ylim=[0, 250],\n",
    "       xlim=[datetime.date(2021, 11, 21), datetime.date(2021, 11, 27)])\n",
    "ax.xaxis.set_major_formatter(date_format)\n",
    "ax.grid(None, 'major', 'both', alpha=0.15)\n",
    "ax.legend(loc='lower right')\n",
    "fig.set(facecolor='lightgrey')\n",
    "plt.show()\n",
    "fig.savefig('Wk14_Obs_JPNB.png', dpi=300, bbox_inches='tight')\n"
   ]
  },
  {
   "cell_type": "code",
   "execution_count": null,
   "metadata": {},
   "outputs": [],
   "source": [
    "# Print flow data for last week\n",
    "print('Flow during the last forecast period:')\n",
    "last_week = flow_data[['flow']].tail(7)\n",
    "print(last_week)\n",
    "print('Avg flow for last week was:', last_week.mean())\n",
    "\n",
    "print('1 week forecast = 178')\n",
    "print('2 week forecast = 195')"
   ]
  }
 ],
 "metadata": {
  "language_info": {
   "name": "python"
  },
  "orig_nbformat": 4
 },
 "nbformat": 4,
 "nbformat_minor": 2
}
